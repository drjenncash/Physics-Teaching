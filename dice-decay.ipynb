{
 "cells": [
  {
   "cell_type": "markdown",
   "id": "fbbaecd5-8570-46f4-a9eb-5cba7930f5b6",
   "metadata": {},
   "source": [
    "# Dice Decay Experiment"
   ]
  },
  {
   "cell_type": "markdown",
   "id": "2ddb6e46-3836-487d-954c-1e7e39e243d5",
   "metadata": {},
   "source": [
    "In this notebook, we virtually recreate the dice decay experiment that is used to simulate radioactive decay in a safe way in the classroom. \n",
    "\n",
    "Users will set the number of dice to use and the number of sides of each dice (not all dice have six sides). \n",
    "The program then randomly \"rolls\" the dice and counts up the number that came up as \"1\" which is the decay value.\n",
    "Those dice are removed from the full set and the number of remaining dice is tracked until all of the dice have decayed. \n",
    "\n",
    "Using a smaller number of dice yeilds a rougher result where the statistical nature of the rolls in more obvious. A larger number of dice will show a smoother exponential decay. \n",
    "\n",
    "Changing the number of sides for the dice will affect the decay rate. "
   ]
  },
  {
   "cell_type": "code",
   "execution_count": 2,
   "id": "cad6c2bc-ee37-4cd3-b97c-6a60c9dcf005",
   "metadata": {},
   "outputs": [],
   "source": [
    "# these commands load the functions we will be using\n",
    "\n",
    "import numpy as np                          #this is the Numerical Python functions package\n",
    "import matplotlib.pyplot as plt             #this is a common plotting functions package\n"
   ]
  },
  {
   "cell_type": "markdown",
   "id": "7021ba6a-e9b3-426a-9f3d-72ac38e4820f",
   "metadata": {},
   "source": [
    "## Set your variables"
   ]
  },
  {
   "cell_type": "markdown",
   "id": "06ab0bd1-9eb3-4500-84ad-3fe04153ee75",
   "metadata": {},
   "source": [
    "The first step is to set the number of dice and the number of sides for the dice."
   ]
  },
  {
   "cell_type": "code",
   "execution_count": 25,
   "id": "457c5e95-208d-4bd9-9569-567ce05d928c",
   "metadata": {},
   "outputs": [],
   "source": [
    "init_dice = 500            #set the initial number of dice\n",
    "sides_dice = 6           #set the sides of dice\n"
   ]
  },
  {
   "cell_type": "markdown",
   "id": "8ff4a17f-30eb-4e7f-a0e3-7222cc3679a0",
   "metadata": {
    "tags": []
   },
   "source": [
    "## Run the simulation"
   ]
  },
  {
   "cell_type": "markdown",
   "id": "0c037a12-a8de-404c-b8af-d02b89507209",
   "metadata": {},
   "source": [
    "Now the program will run the experiment. "
   ]
  },
  {
   "cell_type": "code",
   "execution_count": 53,
   "id": "ef13ebd1-5301-405b-b36c-56ffddd57909",
   "metadata": {},
   "outputs": [
    {
     "data": {
      "text/plain": [
       "Text(0, 0.5, 'Dice Remaining')"
      ]
     },
     "execution_count": 53,
     "metadata": {},
     "output_type": "execute_result"
    },
    {
     "data": {
      "image/png": "[encoded data removed]",
      "text/plain": [
       "<Figure size 432x288 with 1 Axes>"
      ]
     },
     "metadata": {
      "needs_background": "light"
     },
     "output_type": "display_data"
    }
   ],
   "source": [
    "#initiate values\n",
    "roll = 0\n",
    "roll_arr = [roll]\n",
    "decayed_arr = [0]\n",
    "num_dice = init_dice\n",
    "remaining_arr = [init_dice]\n",
    "\n",
    "\n",
    "\n",
    "#roll the dice and remove the \"decayed\" ones\n",
    "#loop while there are still dice remaining\n",
    "\n",
    "while num_dice > 0:\n",
    "    \n",
    "    result = np.random.randint(1, sides_dice+1,size=num_dice)\n",
    "    decayed = np.count_nonzero(result==1)\n",
    "    remaining = num_dice - decayed\n",
    "\n",
    "    \n",
    "    roll += 1\n",
    "    num_dice = remaining\n",
    "    roll_arr.append(roll)\n",
    "    decayed_arr.append(decayed)\n",
    "    remaining_arr.append(num_dice)\n",
    "\n",
    "    \n",
    "\n",
    "#plot the results\n",
    " \n",
    "plt.plot(roll_arr,remaining_arr,'r')\n",
    "plt.xlabel(\"Roll number\")\n",
    "plt.ylabel(\"Dice Remaining\")"
   ]
  },
  {
   "cell_type": "markdown",
   "id": "cacbd7ba-9a18-491d-9e56-d565fea3160b",
   "metadata": {},
   "source": [
    "## Graphing the Data with more detail"
   ]
  },
  {
   "cell_type": "markdown",
   "id": "392933e3-5389-44ed-8a1e-9991dbd5aa1f",
   "metadata": {},
   "source": [
    "We can also create a graph with more information and markings"
   ]
  },
  {
   "cell_type": "code",
   "execution_count": 52,
   "id": "294ee9fc-e91a-4dca-9e67-987a1ae66de2",
   "metadata": {},
   "outputs": [
    {
     "data": {
      "image/png": "[encoded data removed]",
      "text/plain": [
       "<Figure size 432x288 with 1 Axes>"
      ]
     },
     "metadata": {
      "needs_background": "light"
     },
     "output_type": "display_data"
    }
   ],
   "source": [
    "plt.plot(roll_arr,remaining_arr,'r')\n",
    "plt.xlabel(\"Roll number\")\n",
    "plt.ylabel(\"Dice Remaining\")\n",
    "plt.axhline(y=init_dice/2.0,linestyle = \":\")\n",
    "plt.axhline(y=init_dice/4.0,linestyle = \":\")\n",
    "plt.grid(which='both',color = \"silver\")"
   ]
  },
  {
   "cell_type": "markdown",
   "id": "5b782b59-0d82-4516-a4d5-975815a9bf52",
   "metadata": {
    "tags": []
   },
   "source": [
    "### Examine the data if desired"
   ]
  },
  {
   "cell_type": "code",
   "execution_count": 29,
   "id": "fb5135c2-14b5-4fbc-86a2-7a91c3db36a3",
   "metadata": {},
   "outputs": [
    {
     "name": "stdout",
     "output_type": "stream",
     "text": [
      "[500, 426, 348, 289, 229, 193, 163, 137, 114, 96, 83, 67, 58, 49, 42, 38, 35, 30, 27, 23, 20, 18, 15, 14, 11, 8, 6, 5, 3, 2, 2, 2, 1, 1, 1, 0]\n"
     ]
    }
   ],
   "source": [
    "\n",
    "print(remaining_arr)"
   ]
  },
  {
   "cell_type": "code",
   "execution_count": 32,
   "id": "b11900bd-e6f3-4360-a02c-0abcb232c610",
   "metadata": {},
   "outputs": [
    {
     "name": "stdout",
     "output_type": "stream",
     "text": [
      "[74, 78, 59, 60, 36, 30, 26, 23, 18, 13, 16, 9, 9, 7, 4, 3, 5, 3, 4, 3, 2, 3, 1, 3, 3, 2, 1, 2, 1, 0, 0, 1, 0, 0, 1]\n"
     ]
    }
   ],
   "source": [
    "print(decayed_arr[1:])     #leave off initial zero for 0th roll"
   ]
  },
  {
   "cell_type": "code",
   "execution_count": 39,
   "id": "4b907b62-d9de-43cb-923b-226ba226ca90",
   "metadata": {},
   "outputs": [
    {
     "data": {
      "text/plain": [
       "Text(0, 0.5, 'Decayed')"
      ]
     },
     "execution_count": 39,
     "metadata": {},
     "output_type": "execute_result"
    },
    {
     "data": {
      "image/png": "[encoded data removed]",
      "text/plain": [
       "<Figure size 432x288 with 1 Axes>"
      ]
     },
     "metadata": {
      "needs_background": "light"
     },
     "output_type": "display_data"
    }
   ],
   "source": [
    "plt.plot(roll_arr[1:],decayed_arr[1:])    #plot starting after the 1st roll\n",
    "plt.xlabel(\"Roll number\")\n",
    "plt.ylabel(\"Decayed\")"
   ]
  },
  {
   "cell_type": "code",
   "execution_count": null,
   "id": "15ceb182-b904-4dc5-871e-270b4febde45",
   "metadata": {},
   "outputs": [],
   "source": []
  }
 ],
 "metadata": {
  "kernelspec": {
   "display_name": "Python 3",
   "language": "python",
   "name": "python3"
  },
  "language_info": {
   "codemirror_mode": {
    "name": "ipython",
    "version": 3
   },
   "file_extension": ".py",
   "mimetype": "text/x-python",
   "name": "python",
   "nbconvert_exporter": "python",
   "pygments_lexer": "ipython3",
   "version": "3.8.8"
  }
 },
 "nbformat": 4,
 "nbformat_minor": 5
}
